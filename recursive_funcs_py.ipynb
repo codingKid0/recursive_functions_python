{
 "cells": [
  {
   "cell_type": "code",
   "execution_count": 57,
   "id": "e7f421d7-5e95-4885-8e4e-16bd7c1fc04f",
   "metadata": {},
   "outputs": [
    {
     "data": {
      "text/plain": [
       "0.9999546021312976"
      ]
     },
     "execution_count": 57,
     "metadata": {},
     "output_type": "execute_result"
    }
   ],
   "source": [
    "import math\n",
    "\n",
    "# A function that if the argument is between 0 and 1, it returns itself, otherwise \n",
    "def custom_function(z):\n",
    "    if z >= 0 and z <= 1: # This could be more simply-written, but I wanted to also use a logical operator\n",
    "        return z\n",
    "    else:\n",
    "        return 1 / (1 + math.exp(-z))\n",
    "\n",
    "custom_function(0) # 0\n",
    "custom_function(1) # 1\n",
    "custom_function(10) # 0.9999546021312976"
   ]
  },
  {
   "cell_type": "code",
   "execution_count": 61,
   "id": "1a96bbdb-c25e-46e2-bc4c-58cfaa146c82",
   "metadata": {},
   "outputs": [
    {
     "data": {
      "text/plain": [
       "7"
      ]
     },
     "execution_count": 61,
     "metadata": {},
     "output_type": "execute_result"
    }
   ],
   "source": [
    "# 2. a function that calculates the absolute value of a given number\n",
    "def absolute_value(x):\n",
    "    if x >= 0:          # We could complicate this if we used a logical operator: if x == 0 or x > 0\n",
    "        return x\n",
    "    else:\n",
    "        return -x\n",
    "\n",
    "absolute_value(-7) # 7\n",
    "absolute_value(0) # 0\n",
    "absolute_value(7) # 7"
   ]
  },
  {
   "cell_type": "code",
   "execution_count": 63,
   "id": "9a81b1a0-474d-465c-b739-be628230f987",
   "metadata": {},
   "outputs": [
    {
     "name": "stdout",
     "output_type": "stream",
     "text": [
      "10\n",
      "9\n",
      "8\n",
      "7\n",
      "6\n",
      "5\n",
      "4\n",
      "3\n",
      "2\n",
      "1\n",
      "0\n"
     ]
    }
   ],
   "source": [
    "# A recursive function that prints the numbers starting from the given value (like 10) to 0\n",
    "def print_value_to_zero(n):\n",
    "    if n < 0:\n",
    "        return\n",
    "    print(n)\n",
    "    print_value_to_zero(n - 1)\n",
    "\n",
    "# Pass your initial number to start the countdown to 0\n",
    "print_value_to_zero(10) # 10  9  8  7  6  5  4  3  2  1  0"
   ]
  },
  {
   "cell_type": "code",
   "execution_count": 65,
   "id": "5122c41e-11a2-4853-826c-81675bdf6139",
   "metadata": {},
   "outputs": [
    {
     "name": "stdout",
     "output_type": "stream",
     "text": [
      "10\n",
      "9\n",
      "8\n",
      "7\n",
      "6\n",
      "5\n"
     ]
    }
   ],
   "source": [
    "# A recursive function that prints the numbers starting from your 1st given value to your 2nd given value\n",
    "def print_x_to_y(x, y):\n",
    "    if x < y:\n",
    "        return # I didn't return a value when exiting the function, as this is just a simple countdown demonstration (printing)\n",
    "    print(x)\n",
    "    print_x_to_y(x - 1, y)\n",
    "\n",
    "# Pass your desired FIRST and SECOND arguments to act as the starting and ending point for the countdown\n",
    "print_x_to_y(10, 5) # 10  9  8  7  6  5"
   ]
  },
  {
   "cell_type": "code",
   "execution_count": null,
   "id": "2911d401-f935-41e2-bef0-a4540399302a",
   "metadata": {},
   "outputs": [],
   "source": []
  }
 ],
 "metadata": {
  "kernelspec": {
   "display_name": "Python 3 (ipykernel)",
   "language": "python",
   "name": "python3"
  },
  "language_info": {
   "codemirror_mode": {
    "name": "ipython",
    "version": 3
   },
   "file_extension": ".py",
   "mimetype": "text/x-python",
   "name": "python",
   "nbconvert_exporter": "python",
   "pygments_lexer": "ipython3",
   "version": "3.12.6"
  }
 },
 "nbformat": 4,
 "nbformat_minor": 5
}
